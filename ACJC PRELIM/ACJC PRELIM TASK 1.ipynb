{
 "cells": [
  {
   "cell_type": "code",
   "execution_count": 1,
   "metadata": {},
   "outputs": [
    {
     "name": "stdout",
     "output_type": "stream",
     "text": [
      "suses\n"
     ]
    }
   ],
   "source": [
    "#Task 1.1\n",
    "import random\n",
    "def get_word(filename):\n",
    "    with open(filename) as f:\n",
    "        words = f.readlines()\n",
    "        randomWord = words[random.randint(0, len(words))]\n",
    "        return randomWord.strip()\n",
    "\n",
    "print(get_word(\"words.txt\"))"
   ]
  },
  {
   "cell_type": "code",
   "execution_count": 2,
   "metadata": {},
   "outputs": [
    {
     "name": "stdout",
     "output_type": "stream",
     "text": [
      "True\n",
      "False\n",
      "False\n",
      "False\n"
     ]
    }
   ],
   "source": [
    "#Task 1.2\n",
    "def check_validity(guess):\n",
    "    if len(guess) != 5:\n",
    "        return False\n",
    "    \n",
    "    for char in guess:\n",
    "        if ord(char) < 97 or ord(char) > 122:\n",
    "            return False\n",
    "    \n",
    "    return True\n",
    "\n",
    "print(check_validity(\"aaaaa\"))\n",
    "print(check_validity(\"Aaaaa\"))\n",
    "print(check_validity(\"@aaaa\"))\n",
    "print(check_validity(\"aaaa\"))"
   ]
  },
  {
   "cell_type": "code",
   "execution_count": 3,
   "metadata": {},
   "outputs": [
    {
     "name": "stdout",
     "output_type": "stream",
     "text": [
      "[[2, 3, 4], [1]]\n",
      "[[2], [0]]\n",
      "[[0, 1, 2, 3, 4], []]\n",
      "[[0, 1, 4], [3]]\n"
     ]
    }
   ],
   "source": [
    "#Task 1.3\n",
    "def check_guess(guess, word):\n",
    "    correct = []\n",
    "    in_word = []\n",
    "    skip = []\n",
    "    \n",
    "    for index1, char1 in enumerate(guess):\n",
    "        if char1 == word[index1]:\n",
    "            correct.append(index1)\n",
    "            skip.append(index1)\n",
    "    \n",
    "    for index1, char1 in enumerate(guess):\n",
    "        if index1 in skip:\n",
    "            continue\n",
    "        for index2, char2 in enumerate(word):\n",
    "            if char1 == char2 and index2 not in skip:\n",
    "                in_word.append(index1)\n",
    "                skip.append(index2)\n",
    "                break\n",
    "    \n",
    "    return [correct, in_word]\n",
    "\n",
    "print(check_guess('maple', 'apple'))\n",
    "print(check_guess('poppy', 'apple'))\n",
    "print(check_guess('apple', 'apple'))\n",
    "print(check_guess('apepe', 'apple'))"
   ]
  },
  {
   "cell_type": "code",
   "execution_count": 4,
   "metadata": {},
   "outputs": [
    {
     "name": "stdout",
     "output_type": "stream",
     "text": [
      "_*^^^\n",
      "^^^^^\n",
      "_*___\n"
     ]
    }
   ],
   "source": [
    "#Task 1.4\n",
    "def display_result(correct, in_word):\n",
    "    result = ['_', '_', '_', '_', '_']\n",
    "    for index in correct:\n",
    "        result[index] = '^'\n",
    "    \n",
    "    for index in in_word:\n",
    "        result[index] = '*'\n",
    "        \n",
    "    print(f\"{''.join(result)}\")\n",
    "\n",
    "display_result([2,3,4],[1])\n",
    "display_result([0,1,2,3,4],[])\n",
    "display_result([],[1])"
   ]
  },
  {
   "cell_type": "code",
   "execution_count": null,
   "metadata": {},
   "outputs": [],
   "source": [
    "#Task 1.5\n",
    "def play_wordle():\n",
    "    print(\"_ _ _ _ _\")\n",
    "    word = get_word('words.txt')\n",
    "    print(\"you get 6 guesses!\")\n",
    "    for i in range(1,7):\n",
    "        guess = input(\"what is your guess?: \")\n",
    "        while (check_validity(guess) == False):\n",
    "            print(\"please enter exactly 5 lower case letters only\")\n",
    "            guess = input(\"what is your guess?: \")\n",
    "        correct, incorrect = check_guess(guess, word) \n",
    "        print(guess)\n",
    "        display_result(correct, incorrect)\n",
    "        if len(correct) == 5:\n",
    "            print(f\"you used {i} guesses!\")\n",
    "            print(\"You win!\")\n",
    "            return None\n",
    "    print(\"You ran out guesses!\")\n",
    "    print(\"The word was:\", word)\n",
    "    return None"
   ]
  }
 ],
 "metadata": {
  "kernelspec": {
   "display_name": "Python 3",
   "language": "python",
   "name": "python3"
  },
  "language_info": {
   "codemirror_mode": {
    "name": "ipython",
    "version": 3
   },
   "file_extension": ".py",
   "mimetype": "text/x-python",
   "name": "python",
   "nbconvert_exporter": "python",
   "pygments_lexer": "ipython3",
   "version": "3.6.4"
  }
 },
 "nbformat": 4,
 "nbformat_minor": 2
}
