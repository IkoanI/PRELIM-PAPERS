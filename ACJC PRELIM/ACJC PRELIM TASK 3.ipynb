{
 "cells": [
  {
   "cell_type": "code",
   "execution_count": 3,
   "metadata": {},
   "outputs": [],
   "source": [
    "#Task 3.1\n",
    "def dic(s):\n",
    "    result = {}\n",
    "    for index, char in enumerate(s):\n",
    "        result[char] = len(s) - 1 - index\n",
    "    return result"
   ]
  },
  {
   "cell_type": "code",
   "execution_count": 17,
   "metadata": {},
   "outputs": [
    {
     "name": "stdout",
     "output_type": "stream",
     "text": [
      "True\n",
      "False\n",
      "True\n"
     ]
    }
   ],
   "source": [
    "#Task 3.2\n",
    "def isSubstring(s, t):\n",
    "    ptrS = len(s) - 1\n",
    "    ptrT = ptrS\n",
    "    while ptrS > -1:\n",
    "        if s[ptrS] == t[ptrT]:\n",
    "            ptrS -= 1\n",
    "            ptrT -= 1\n",
    "        elif t[ptrT] not in dic(s).keys():\n",
    "            if dic(t)[t[ptrT]] < len(s):\n",
    "                return False\n",
    "            else:\n",
    "                ptrS = len(s) - 1\n",
    "                ptrT += len(s)\n",
    "        else:\n",
    "            if len(s) - 1 - ptrS > dic(s)[t[ptrT]]:\n",
    "                ptrT += len(s) - ptrS\n",
    "                ptrS = len(s) - 1\n",
    "                if ptrT > len(t) - 1:\n",
    "                    return False\n",
    "            else:\n",
    "                ptrS = len(s) - 1\n",
    "                ptrT += dic(s)[t[ptrT]]\n",
    "                if ptrT > len(t) - 1:\n",
    "                    return False\n",
    "    return True\n",
    "\n",
    "print(isSubstring(\"anman\", \"anpanman\"))\n",
    "print(isSubstring(\"anman\", \"anpanpan\"))\n",
    "print(isSubstring(\"anman\", \"anpamanman\"))"
   ]
  }
 ],
 "metadata": {
  "kernelspec": {
   "display_name": "Python 3",
   "language": "python",
   "name": "python3"
  },
  "language_info": {
   "codemirror_mode": {
    "name": "ipython",
    "version": 3
   },
   "file_extension": ".py",
   "mimetype": "text/x-python",
   "name": "python",
   "nbconvert_exporter": "python",
   "pygments_lexer": "ipython3",
   "version": "3.6.4"
  }
 },
 "nbformat": 4,
 "nbformat_minor": 2
}
