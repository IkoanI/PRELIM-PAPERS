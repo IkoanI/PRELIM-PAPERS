{
 "cells": [
  {
   "cell_type": "code",
   "execution_count": 1,
   "metadata": {},
   "outputs": [
    {
     "name": "stdout",
     "output_type": "stream",
     "text": [
      "[170, 173, 153, 174, 159, 155, 170, 164, 155, 155, 153, 177, 172, 167, 162, 157, 164, 156, 167, 150]\n"
     ]
    }
   ],
   "source": [
    "#Task 1.1\n",
    "import random\n",
    "def generate_heights(size):\n",
    "    return [random.randint(150, 180) for i in range(size)]\n",
    "\n",
    "print(generate_heights(20))"
   ]
  },
  {
   "cell_type": "code",
   "execution_count": 2,
   "metadata": {},
   "outputs": [
    {
     "name": "stdout",
     "output_type": "stream",
     "text": [
      "[150, 151, 151, 153, 155, 156, 161, 162, 162, 163, 167, 169, 171, 171, 176, 177, 178, 178, 179, 180]\n"
     ]
    }
   ],
   "source": [
    "#Task 1.2\n",
    "def merge(arr1, arr2):\n",
    "    merged = []\n",
    "    ptr1 = ptr2 = 0\n",
    "    while(ptr1 < len(arr1) and ptr2 < len(arr2)):\n",
    "        if arr1[ptr1] < arr2[ptr2]:\n",
    "            merged.append(arr1[ptr1])\n",
    "            ptr1 += 1\n",
    "        \n",
    "        else:\n",
    "            merged.append(arr2[ptr2])\n",
    "            ptr2 += 1\n",
    "        \n",
    "    while(ptr1 < len(arr1)):\n",
    "        merged.append(arr1[ptr1])\n",
    "        ptr1 += 1\n",
    "   \n",
    "    while(ptr2 < len(arr2)):\n",
    "        merged.append(arr2[ptr2])\n",
    "        ptr2 += 1\n",
    "        \n",
    "    return merged\n",
    "        \n",
    "\n",
    "def mergesort(input_list):\n",
    "    if len(input_list) == 1:\n",
    "        return input_list\n",
    "    \n",
    "    mid = len(input_list) // 2\n",
    "    left = mergesort(input_list[:mid])\n",
    "    right = mergesort(input_list[mid:])\n",
    "    return merge(left, right)\n",
    "\n",
    "print(mergesort(generate_heights(20)))"
   ]
  },
  {
   "cell_type": "code",
   "execution_count": 3,
   "metadata": {},
   "outputs": [
    {
     "name": "stdout",
     "output_type": "stream",
     "text": [
      "Row 0: [[178, 'T0281099B'], [168, 'T0254885I'], [171, 'T0482309S'], [179, 'T0663758C']]\n",
      "Row 1: [[178, 'T0442131M'], [164, 'S7457420P'], [167, 'T0867787F'], [178, 'T0340912U']]\n",
      "Row 2: [[175, 'S6528694I'], [159, 'S7245932B'], [161, 'T0574412P'], [175, 'T0198720F']]\n",
      "Row 3: [[174, 'T0849104E'], [155, 'S8547302F'], [157, 'S6254881Y'], [174, 'S7696370P']]\n",
      "Row 4: [[172, 'T0320135V'], [150, 'S7166399M'], [150, 'S7572379E'], [172, 'T0230412W']]\n"
     ]
    }
   ],
   "source": [
    "# Task 1.3\n",
    "def arrange(height_list):\n",
    "    columns = int(len(height_list) / 5)\n",
    "    contingent = [[[] for i in range(columns)] for j in range(5)]\n",
    "\n",
    "    ptrX1 = ((columns + 1) // 2) - 1\n",
    "    ptrX2 = ptrX1 + 1\n",
    "    for i in range(0, len(height_list), 10):\n",
    "        ptrY = 0\n",
    "        smallest10 = [height_list[j] for j in range(i, i + 10)]\n",
    "        for j in range(0, len(smallest10), 2):\n",
    "            contingent[ptrY][ptrX1] = smallest10[j]\n",
    "            contingent[ptrY][ptrX2] = smallest10[j + 1]\n",
    "            ptrY += 1\n",
    "        ptrX1 -= 1\n",
    "        ptrX2 += 1\n",
    "        if ptrX1 < 0:\n",
    "            break\n",
    "    return contingent[::-1]\n",
    "\n",
    "sorted_heights_nrics = [[150, 'S7166399M'], [150, 'S7572379E'], [155, 'S8547302F'], [157, 'S6254881Y'], [159, 'S7245932B'], [161, 'T0574412P'], [164, 'S7457420P'], [167, 'T0867787F'], [168, 'T0254885I'], [171, 'T0482309S'], [172, 'T0320135V'], [172, 'T0230412W'], [174, 'T0849104E'], [174, 'S7696370P'], [175, 'S6528694I'], [175, 'T0198720F'], [178, 'T0442131M'], [178, 'T0340912U'], [178, 'T0281099B'], [179, 'T0663758C']]\n",
    "contingent = arrange(sorted_heights_nrics)\n",
    "for index, row in enumerate(contingent):\n",
    "    print(f\"Row {index}: {str(row)}\")"
   ]
  },
  {
   "cell_type": "code",
   "execution_count": 19,
   "metadata": {},
   "outputs": [
    {
     "name": "stdout",
     "output_type": "stream",
     "text": [
      "[-1, -1, [178, [0, 0]], [174, [3, 3]], [168, [0, 1]], [172, [4, 0]], [179, [0, 3]], [150, [4, 1]], [172, [4, 3]], [161, [2, 2]], [171, [0, 2]], [175, [2, 0]], [164, [1, 1]], [175, [2, 3]], [174, [3, 0]], [150, [4, 2]], [155, [3, 1]], [178, [1, 3]], [157, [3, 2]], -1, [167, [1, 2]], [159, [2, 1]], -1, -1, -1, -1, [178, [1, 0]], -1, -1]\n"
     ]
    }
   ],
   "source": [
    "# Task 1.4\n",
    "class HashTable:\n",
    "    def __init__(self, size):\n",
    "        self.hash_table = [-1 for i in range(size)]\n",
    "        self.size = size\n",
    "        self.elements = 0\n",
    "        \n",
    "    def hash_funct(self, key):\n",
    "        return int(key[1:8]) % self.size\n",
    "     \n",
    "    \n",
    "    def insert(self, key, data):\n",
    "        key = self.hash_funct(key)\n",
    "        \n",
    "        if self.elements == self.size:\n",
    "            print(\"Hash table is full!\")\n",
    "        \n",
    "        else:\n",
    "            while(self.hash_table[key] != -1):\n",
    "                if key == self.size - 1:\n",
    "                    key = 0\n",
    "                    \n",
    "                else:\n",
    "                    key += 1\n",
    "            \n",
    "            self.hash_table[key] = data\n",
    "            self.elements += 1\n",
    "    \n",
    "    \n",
    "    def search(self, key, data):\n",
    "        key = self.hash_funct(key)\n",
    "        if self.elements == 0:\n",
    "            print(\"Hash table is empty!\")\n",
    "        \n",
    "        else:\n",
    "            searched = 1\n",
    "            \n",
    "            while(self.hash_table[key] != -1 and searched < self.elements):\n",
    "                if self.hash_table[key][0]  == data:\n",
    "                    break\n",
    "                \n",
    "                searched += 1\n",
    "                \n",
    "                if key == self.size - 1:\n",
    "                    key = 0\n",
    "\n",
    "                else:\n",
    "                    key += 1\n",
    "                        \n",
    "            if self.hash_table[key] == -1:\n",
    "                if searched == 1:\n",
    "                    return \"Not found (no collision resolution)\"\n",
    "                else:\n",
    "                    return \"Not found (with collision resolution)\"\n",
    "                    \n",
    "            else:\n",
    "                if searched == 1:\n",
    "                    return f\"Found (with no collision resolution): Row {self.hash_table[key][1][0]} Col {self.hash_table[key][1][1]}\"\n",
    "                \n",
    "                else:\n",
    "                    return f\"Found (with collision resolution): Row {self.hash_table[key][1][0]} Col {self.hash_table[key][1][1]}\"\n",
    "                    \n",
    "\n",
    "hash_table = HashTable(29)\n",
    "mod_array = [[[178, 'T0281099B', [0, 0]], [168, 'T0254885I', [0, 1]], [171, 'T0482309S', [0, 2]], [179, 'T0663758C', [0, 3]]], [[178, 'T0442131M', [1, 0]], [164, 'S7457420P', [1, 1]], [167, 'T0867787F', [1, 2]], [178, 'T0340912U', [1, 3]]], [[175, 'S6528694I', [2, 0]], [159, 'S7245932B', [2, 1]], [161, 'T0574412P', [2, 2]], [175, 'T0198720F', [2, 3]]], [[174, 'T0849104E', [3, 0]], [155, 'S8547302F', [3, 1]], [157, 'S6254881Y', [3, 2]], [174, 'S7696370P', [3, 3]]], [[172, 'T0320135V', [4, 0]], [150, 'S7166399M', [4, 1]], [150, 'S7572379E', [4, 2]], [172, 'T0230412W', [4, 3]]]]\n",
    "for row in mod_array:\n",
    "    for column in row:\n",
    "        height, nric, coord = column\n",
    "        hash_table.insert(nric, [height, coord])\n",
    "        \n",
    "print(hash_table.hash_table)"
   ]
  },
  {
   "cell_type": "code",
   "execution_count": 20,
   "metadata": {},
   "outputs": [
    {
     "name": "stdout",
     "output_type": "stream",
     "text": [
      "Input your NRIC: S7166399M\n",
      "Input your height(cm): 150\n",
      "Found (with collision resolution): Row 4 Col 1\n"
     ]
    }
   ],
   "source": [
    "# Task 1.5\n",
    "nric = input(\"Input your NRIC: \")\n",
    "height = int(input(\"Input your height(cm): \"))\n",
    "print(hash_table.search(nric, height))"
   ]
  },
  {
   "cell_type": "code",
   "execution_count": 22,
   "metadata": {},
   "outputs": [
    {
     "name": "stdout",
     "output_type": "stream",
     "text": [
      "True\n",
      "True\n",
      "True\n",
      "True\n"
     ]
    }
   ],
   "source": [
    "# Task 1.6\n",
    "expected = \"Found (with no collision resolution): Row 0 Col 3\"\n",
    "print(hash_table.search('T0663758C', 179) == expected)\n",
    "expected = \"Found (with collision resolution): Row 4 Col 3\"\n",
    "print(hash_table.search('T0230412W', 172) == expected)\n",
    "expected = \"Not found (no collision resolution)\"\n",
    "print(hash_table.search('G1126065P', 169) == expected)\n",
    "expected = \"Not found (with collision resolution)\"\n",
    "print(hash_table.search('T0663758C', 180) == expected)"
   ]
  }
 ],
 "metadata": {
  "kernelspec": {
   "display_name": "Python 3",
   "language": "python",
   "name": "python3"
  },
  "language_info": {
   "codemirror_mode": {
    "name": "ipython",
    "version": 3
   },
   "file_extension": ".py",
   "mimetype": "text/x-python",
   "name": "python",
   "nbconvert_exporter": "python",
   "pygments_lexer": "ipython3",
   "version": "3.6.4"
  }
 },
 "nbformat": 4,
 "nbformat_minor": 2
}
