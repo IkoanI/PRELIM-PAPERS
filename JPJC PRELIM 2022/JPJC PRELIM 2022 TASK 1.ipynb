{
 "cells": [
  {
   "cell_type": "code",
   "execution_count": 10,
   "metadata": {},
   "outputs": [
    {
     "name": "stdout",
     "output_type": "stream",
     "text": [
      "9\n",
      "-1\n"
     ]
    }
   ],
   "source": [
    "# Task 1.1\n",
    "def JumpSearch(arr, x, m):\n",
    "    start = 0\n",
    "    end = len(arr)\n",
    "    for i in range(0, len(arr), m):\n",
    "        if arr[i] == x:\n",
    "            return i\n",
    "        elif arr[i] < x:\n",
    "            start = i\n",
    "        else:\n",
    "            end = i\n",
    "    \n",
    "    for i in range(start, end):\n",
    "        if arr[i] == x:\n",
    "            return i\n",
    "    \n",
    "    return -1\n",
    "\n",
    "arr = [0, 1, 2, 3, 5, 8, 13, 21, 34, 55, 89, 144, 233, 377, 610, 999]\n",
    "x = 55\n",
    "m = 4\n",
    "print(JumpSearch(arr, x, m))\n",
    "x = 1000\n",
    "print(JumpSearch(arr, x, m))"
   ]
  },
  {
   "cell_type": "code",
   "execution_count": 11,
   "metadata": {},
   "outputs": [
    {
     "name": "stdout",
     "output_type": "stream",
     "text": [
      "9\n",
      "-1\n"
     ]
    }
   ],
   "source": [
    "# Task 1.2\n",
    "def JumpSearchRecursive(arr, x, m, currentLastIndex):\n",
    "    if currentLastIndex >= len(arr):\n",
    "        return -1\n",
    "    else:\n",
    "        if arr[currentLastIndex] < x:\n",
    "            return JumpSearchRecursive(arr, x, m, currentLastIndex + m)\n",
    "            \n",
    "        else:\n",
    "            for i in range(currentLastIndex - m, currentLastIndex + 1):\n",
    "                if arr[i] == x:\n",
    "                    return i\n",
    "        return -1\n",
    "    \n",
    "    \n",
    "arr = [0, 1, 2, 3, 5, 8, 13, 21, 34, 55, 89, 144, 233, 377, 610, 999]\n",
    "x = 55\n",
    "m = 4\n",
    "print(JumpSearchRecursive(arr, x, m, m))\n",
    "x = 1000\n",
    "print(JumpSearchRecursive(arr, x, m, m))"
   ]
  }
 ],
 "metadata": {
  "kernelspec": {
   "display_name": "Python 3",
   "language": "python",
   "name": "python3"
  },
  "language_info": {
   "codemirror_mode": {
    "name": "ipython",
    "version": 3
   },
   "file_extension": ".py",
   "mimetype": "text/x-python",
   "name": "python",
   "nbconvert_exporter": "python",
   "pygments_lexer": "ipython3",
   "version": "3.6.4"
  }
 },
 "nbformat": 4,
 "nbformat_minor": 2
}
