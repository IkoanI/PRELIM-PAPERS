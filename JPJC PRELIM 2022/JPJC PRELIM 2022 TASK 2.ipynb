{
 "cells": [
  {
   "cell_type": "code",
   "execution_count": 5,
   "metadata": {},
   "outputs": [],
   "source": [
    "# Task 2.1\n",
    "class Item:\n",
    "    def __init__(self, CatalogueNumber, Brand, Style, Colour, Rental):\n",
    "        self.__CatalogueNumber = CatalogueNumber\n",
    "        self.__Brand = Brand\n",
    "        self.__Style = Style\n",
    "        self.__Colour = Colour\n",
    "        self.__Rental = Rental\n",
    "        \n",
    "    def getCatalogueNumber(self):\n",
    "        return self.__CatalogueNumber\n",
    "    \n",
    "    def setCatalogueNumber(self, catnum):\n",
    "        self.__CatalogueNumber = catnum\n",
    "\n",
    "    def getBrand(self):\n",
    "        return self.__Brand\n",
    "    \n",
    "    def setBrand(self, brand):\n",
    "        self.__Brand = brand\n",
    "        \n",
    "    def getStyle(self):\n",
    "        return self.__Style\n",
    "    \n",
    "    def setStyle(self, style):\n",
    "        self.__Style = style\n",
    "        \n",
    "    def getColour(self):\n",
    "        return self.__Colour\n",
    "    \n",
    "    def setColour(self, colour):\n",
    "        self.__Colour = colour\n",
    "        \n",
    "    def getRental(self):\n",
    "        return self.__Rental\n",
    "    \n",
    "    def setRental(self, rental):\n",
    "        self.__Rental = rental\n",
    "        \n",
    "        \n",
    "class Apparel(Item):\n",
    "    def __init__(self, CatalogueNumber, Brand, Style, Colour, Rental, Size, Fabrication):\n",
    "        super().__init__(CatalogueNumber, Brand, Style, Colour, Rental)\n",
    "        self.__Size = Size\n",
    "        self.__Fabrication = Fabrication\n",
    "        \n",
    "    def getSize(self):\n",
    "        return self.__Size\n",
    "    \n",
    "    def setSize(self, size):\n",
    "        self.__Size = size\n",
    "        \n",
    "    def getFabrication(self):\n",
    "        return self.__Fabrication\n",
    "    \n",
    "    def setFabrication(self, fabric):\n",
    "        self.__Fabrication = fabric\n",
    "        \n",
    "        \n",
    "class Bag(Item):\n",
    "    def __init__(self, CatalogueNumber, Brand, Style, Colour, Rental, Length, Breadth, Leather):\n",
    "        super().__init__(CatalogueNumber, Brand, Style, Colour, Rental)\n",
    "        self.__Length = Length\n",
    "        self.__Breadth = Breadth\n",
    "        self.__Leather = Leather\n",
    "        \n",
    "    def getLength(self):\n",
    "        return self.__Length\n",
    "    \n",
    "    def setLength(self, length):\n",
    "        self.__Length = length\n",
    "\n",
    "    def getBreadth(self):\n",
    "        return self.__Breadth\n",
    "    \n",
    "    def setBreadth(self, breadth):\n",
    "        self.__Breadth = breadth\n",
    "        \n",
    "    def getLeather(self):\n",
    "        return self.__Leather\n",
    "    \n",
    "    def setLeather(self, leather):\n",
    "        self.__Leather = leather"
   ]
  },
  {
   "cell_type": "code",
   "execution_count": 13,
   "metadata": {},
   "outputs": [],
   "source": [
    "# Task 2.2\n",
    "hashtable = [None for x in range(100)]\n",
    "\n",
    "def insertItem(item, email, hashtable):\n",
    "    hashValue = item.getCatalogueNumber() % 100\n",
    "    while(hashtable[hashValue] is not None):\n",
    "        hashValue += 1\n",
    "        if hashValue >= len(hashtable):\n",
    "            hashValue = 0\n",
    "    hashtable[hashValue] = (item, email)\n",
    "\n",
    "with open(\"RECORDS.csv\") as f:\n",
    "    data = f.readlines()\n",
    "    for index, item in enumerate(data):\n",
    "        if index == 0:\n",
    "            continue\n",
    "        \n",
    "        item = item.strip().split(',')\n",
    "        \n",
    "        if item[1] == \"Apparel\":\n",
    "            newApparel = Apparel(int(item[0]), item[2], item[3], item[4], int(item[5]), int(item[6]), item[7])\n",
    "            email = item[11]\n",
    "            insertItem(newApparel, email, hashtable)\n",
    "            \n",
    "        elif item[1] == \"Bag\":\n",
    "            newBag = Bag(int(item[0]), item[2], item[3], item[4], int(item[5]), int(item[8]), int(item[9]), bool(item[10]))\n",
    "            email = item[11]\n",
    "            insertItem(newBag, email, hashtable)"
   ]
  },
  {
   "cell_type": "code",
   "execution_count": 27,
   "metadata": {},
   "outputs": [
    {
     "name": "stdout",
     "output_type": "stream",
     "text": [
      "Index | Catalogue Number | Customer Email\n",
      "0       1000               wendy@hotmail.com\n",
      "1       1001               praveen@gmail.com\n",
      "2       1100               joycelee@singnet.com\n",
      "3       1200               mark123@gmail.com\n",
      "4       1004               shawn@gmail.com\n",
      "5       1103               awanghazzy@hotmail.com\n",
      "6       1399               magicalcode@singnet.com\n",
      "7       None               None          \n",
      "8       None               None          \n",
      "9       None               None          \n"
     ]
    }
   ],
   "source": [
    "# Task 2.3\n",
    "print(\"Index | Catalogue Number | Customer Email\")\n",
    "for index, item in enumerate(hashtable):\n",
    "    if index > 9:\n",
    "        break\n",
    "    elif item is None:\n",
    "        print(f\"{index:<8}{'None':<19}{'None':<14}\")\n",
    "    else:\n",
    "        print(f\"{index:<8}{item[0].getCatalogueNumber():<19}{item[1]:<14}\")"
   ]
  },
  {
   "cell_type": "code",
   "execution_count": 19,
   "metadata": {},
   "outputs": [],
   "source": [
    "# Task 2.4\n",
    "def HashTableSearch(hashtable, CatalogueNumber):\n",
    "    hashValue = CatalogueNumber % 100\n",
    "    while(hashtable[hashValue] is not None and hashtable[hashValue][0].getCatalogueNumber() != CatalogueNumber):\n",
    "        hashValue += 1\n",
    "        if hashValue >= len(hashtable):\n",
    "            hashValue = 0\n",
    "    if hashtable[hashValue] is None:\n",
    "        return \"Not Found\"\n",
    "    else:\n",
    "        return hashtable[hashValue][1]"
   ]
  },
  {
   "cell_type": "code",
   "execution_count": 20,
   "metadata": {},
   "outputs": [
    {
     "name": "stdout",
     "output_type": "stream",
     "text": [
      "magicalcode@singnet.com\n",
      "Not Found\n"
     ]
    }
   ],
   "source": [
    "# Task 2.5\n",
    "print(HashTableSearch(hashtable, 1399))\n",
    "print(HashTableSearch(hashtable, 1220))"
   ]
  }
 ],
 "metadata": {
  "kernelspec": {
   "display_name": "Python 3",
   "language": "python",
   "name": "python3"
  },
  "language_info": {
   "codemirror_mode": {
    "name": "ipython",
    "version": 3
   },
   "file_extension": ".py",
   "mimetype": "text/x-python",
   "name": "python",
   "nbconvert_exporter": "python",
   "pygments_lexer": "ipython3",
   "version": "3.6.4"
  }
 },
 "nbformat": 4,
 "nbformat_minor": 2
}
