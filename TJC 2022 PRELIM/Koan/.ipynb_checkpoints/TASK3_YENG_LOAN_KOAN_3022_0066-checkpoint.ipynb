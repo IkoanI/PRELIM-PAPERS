{
 "cells": [
  {
   "cell_type": "code",
   "execution_count": 8,
   "metadata": {},
   "outputs": [],
   "source": [
    "# Task 3.1\n",
    "hashtable = [\"None\" for i in range(31)]\n",
    "\n",
    "def hashID(k):\n",
    "    return k % 31\n",
    "\n",
    "def add(hashtable, k):\n",
    "    if hashtable[hashID(k)] is not \"None\":\n",
    "        print(\"Not added!\")\n",
    "    else:\n",
    "        hashtable[hashID(k)] = k\n",
    "\n",
    "def display(hashtable):\n",
    "    print(f\"{'Key' : <5} {'Value' : <5}\")\n",
    "    for key, value in enumerate(hashtable):\n",
    "        print(f\"{key : <5} {value : <5}\")"
   ]
  },
  {
   "cell_type": "code",
   "execution_count": 10,
   "metadata": {},
   "outputs": [],
   "source": [
    "# Task 3.2\n",
    "hashtable = [\"None\" for i in range(31)]\n",
    "\n",
    "def hashID(k):\n",
    "    return k % 31\n",
    "\n",
    "def add(hashtable, k):\n",
    "    if hashtable[hashID(k)] is not \"None\":\n",
    "        print(\"Not added!\")\n",
    "    else:\n",
    "        hashtable[hashID(k)] = k\n",
    "\n",
    "def display(hashtable):\n",
    "    print(f\"{'Key' : <5} {'Value' : <5}\")\n",
    "    for key, value in enumerate(hashtable):\n",
    "        print(f\"{key : <5} {value : <5}\")\n",
    "        \n",
    "def search(membershipNo):\n",
    "    if hashtable[hashID(membershipNo)] == \"None\":\n",
    "        print(\"Not found!\")\n",
    "    else:\n",
    "        return hashtable[hashID(membershipNo)]"
   ]
  },
  {
   "cell_type": "code",
   "execution_count": null,
   "metadata": {},
   "outputs": [],
   "source": [
    "# Task 3.3\n",
    "hashtable = [\"None\" for i in range(31)]\n",
    "\n",
    "def hashID(k):\n",
    "    return k % 31\n",
    "\n",
    "def rehash(k):\n",
    "    return (2 ^ k) % 31\n",
    "\n",
    "def add(hashtable, k):\n",
    "    if hashtable[hashID(k)] is not \"None\":\n",
    "        hashtable[rehash(hashID(k))] = k\n",
    "    else:\n",
    "        hashtable[hashID(k)] = k\n",
    "\n",
    "def display(hashtable):\n",
    "    print(f\"{'Key' : <5} {'Value' : <5}\")\n",
    "    for key, value in enumerate(hashtable):\n",
    "        print(f\"{key : <5} {value : <5}\")\n",
    "        \n",
    "def search(membershipNo):\n",
    "    if hashtable[hashID(membershipNo)] == \"None\":\n",
    "        print(\"Not found!\")\n",
    "    else:\n",
    "        return hashtable[hashID(membershipNo)]"
   ]
  }
 ],
 "metadata": {
  "kernelspec": {
   "display_name": "Python 3",
   "language": "python",
   "name": "python3"
  },
  "language_info": {
   "codemirror_mode": {
    "name": "ipython",
    "version": 3
   },
   "file_extension": ".py",
   "mimetype": "text/x-python",
   "name": "python",
   "nbconvert_exporter": "python",
   "pygments_lexer": "ipython3",
   "version": "3.6.4"
  }
 },
 "nbformat": 4,
 "nbformat_minor": 2
}
