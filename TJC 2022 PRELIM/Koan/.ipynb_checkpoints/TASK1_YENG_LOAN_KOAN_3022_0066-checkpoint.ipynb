{
 "cells": [
  {
   "cell_type": "code",
   "execution_count": 1,
   "metadata": {},
   "outputs": [
    {
     "data": {
      "text/plain": [
       "['1', '10', '11', '100', '101', '111', '1100']"
      ]
     },
     "execution_count": 1,
     "metadata": {},
     "output_type": "execute_result"
    }
   ],
   "source": [
    "# Task 1.1\n",
    "def merge(arr1, arr2):\n",
    "    ptr1 = 0\n",
    "    ptr2 = 0\n",
    "    merged = []\n",
    "    while ptr1 < len(arr1) and ptr2 < len(arr2):\n",
    "        if int(arr1[ptr1]) <= int(arr2[ptr2]):\n",
    "            merged.append(arr1[ptr1])\n",
    "            ptr1 += 1\n",
    "        else:\n",
    "            merged.append(arr2[ptr2])\n",
    "            ptr2 += 1\n",
    "        \n",
    "    while(ptr1 < len(arr1)):\n",
    "        merged.append(arr1[ptr1])\n",
    "        ptr1 += 1\n",
    "                \n",
    "    while(ptr2 < len(arr2)):\n",
    "        merged.append(arr2[ptr2])\n",
    "        ptr2 += 1\n",
    "    return merged\n",
    "    \n",
    "def task1_1(list_of_strings):\n",
    "    if len(list_of_strings) == 1:\n",
    "        return list_of_strings\n",
    "    \n",
    "    mid = len(list_of_strings) // 2\n",
    "    left = task1_1(list_of_strings[0 : mid])\n",
    "    right = task1_1(list_of_strings[mid : len(list_of_strings)])\n",
    "    return merge(left, right)\n",
    "\n",
    "task1_1(['11', '101', '10', '1', '111', '1100', '100'])"
   ]
  },
  {
   "cell_type": "code",
   "execution_count": 3,
   "metadata": {},
   "outputs": [],
   "source": [
    "# Task 1.2\n",
    "def task1_2(filename):\n",
    "    with open(filename) as f:\n",
    "        data = f.readlines()\n",
    "        toSort = [x.strip() for x in data]\n",
    "    \n",
    "    return task1_1(toSort)"
   ]
  },
  {
   "cell_type": "code",
   "execution_count": null,
   "metadata": {},
   "outputs": [],
   "source": [
    "def task1_3(list_of_sorted_strings, num):\n",
    "    mid = len(list_of_sorted_strings) // 2\n",
    "    if list_of_sorted_strings[mid] == num:\n",
    "        return mid\n",
    "    if list_of_sorted_strings[mid] < num:\n",
    "        "
   ]
  }
 ],
 "metadata": {
  "kernelspec": {
   "display_name": "Python 3",
   "language": "python",
   "name": "python3"
  },
  "language_info": {
   "codemirror_mode": {
    "name": "ipython",
    "version": 3
   },
   "file_extension": ".py",
   "mimetype": "text/x-python",
   "name": "python",
   "nbconvert_exporter": "python",
   "pygments_lexer": "ipython3",
   "version": "3.6.4"
  }
 },
 "nbformat": 4,
 "nbformat_minor": 2
}
