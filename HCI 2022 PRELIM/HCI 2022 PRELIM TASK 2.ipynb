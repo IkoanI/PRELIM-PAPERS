{
 "cells": [
  {
   "cell_type": "code",
   "execution_count": 2,
   "metadata": {},
   "outputs": [
    {
     "name": "stdout",
     "output_type": "stream",
     "text": [
      "18\n",
      "[['White Fang', 'Jack London', '1906'], ['The Wind in the Willows', 'Kenneth Grahame', '1908'], ['Moby Dick', 'Herman Melville', '1851'], ['Jane Eyre', 'Charlotte Bronte', '1847'], ['The Picture of Dorian Gray', 'Oscar Wilde', '1890'], ['The Three Musketeers', 'Alexandre Dumas', '1844'], ['Persuasion', 'Jane Austen', '1817'], ['Dream of the Red Chamber', 'Cao Xueqin', '1791'], ['Little Women', 'Louisa May Alcott', '1868'], ['The Phantom of the Opera', 'Gaston Leroux', '1909'], ['Water Margin', 'Shi Naian', '1450'], ['A Christmas Carol', 'Charles Dickens', '1843'], ['One Hundred Years of Solitude', 'Gabriel Garcia Marquez', '1967'], ['Nineteen Eighty-Four', 'George Orwell', '1949'], ['Journey to the West', 'Wu Chengen', '1592'], ['Romance of the Three Kingdoms', 'Luo Guanzhong', '1522'], ['Fahrenheit 451', 'Ray Bradbury', '1953'], ['War and Peace', 'Leo Tolstoy', '1867']]\n"
     ]
    }
   ],
   "source": [
    "#Task 2.1\n",
    "def read_csv(filename):\n",
    "    with open(f\"{filename}\") as f:\n",
    "        data = [row.strip().split(',') for row in f]\n",
    "        \n",
    "    return data\n",
    "\n",
    "books_array = read_csv(\"booklist.csv\")\n",
    "print(len(books_array))\n",
    "print(books_array)"
   ]
  },
  {
   "cell_type": "code",
   "execution_count": 7,
   "metadata": {},
   "outputs": [
    {
     "name": "stdout",
     "output_type": "stream",
     "text": [
      "[['A Christmas Carol', 'Charles Dickens', '1843'], ['Dream of the Red Chamber', 'Cao Xueqin', '1791'], ['Fahrenheit 451', 'Ray Bradbury', '1953'], ['Jane Eyre', 'Charlotte Bronte', '1847'], ['Journey to the West', 'Wu Chengen', '1592'], ['Little Women', 'Louisa May Alcott', '1868'], ['Moby Dick', 'Herman Melville', '1851'], ['Nineteen Eighty-Four', 'George Orwell', '1949'], ['One Hundred Years of Solitude', 'Gabriel Garcia Marquez', '1967'], ['Persuasion', 'Jane Austen', '1817'], ['Romance of the Three Kingdoms', 'Luo Guanzhong', '1522'], ['The Phantom of the Opera', 'Gaston Leroux', '1909'], ['The Picture of Dorian Gray', 'Oscar Wilde', '1890'], ['The Three Musketeers', 'Alexandre Dumas', '1844'], ['The Wind in the Willows', 'Kenneth Grahame', '1908'], ['War and Peace', 'Leo Tolstoy', '1867'], ['Water Margin', 'Shi Naian', '1450'], ['White Fang', 'Jack London', '1906']]\n",
      "-1\n"
     ]
    }
   ],
   "source": [
    "#Task 2.2\n",
    "def bubble(array, sort_key):\n",
    "    key = {\"title\" : 0, \"author\" : 1, \"year\" : 2}\n",
    "    \n",
    "    if sort_key not in key:\n",
    "        return -1\n",
    "    \n",
    "    sort_key = key[sort_key]\n",
    "    \n",
    "    for i in range(len(array)):\n",
    "        noSwaps = True\n",
    "        \n",
    "        for j in range(len(array) - i - 1):\n",
    "            if array[j][sort_key] > array[j + 1][sort_key]:\n",
    "                noSwaps = False\n",
    "                array[j], array[j + 1] = array[j + 1], array[j]\n",
    "        \n",
    "        if noSwaps:\n",
    "            break\n",
    "    \n",
    "    return array\n",
    "\n",
    "print(bubble(books_array, \"title\"))\n",
    "print(bubble(books_array, \"ISBN\"))"
   ]
  },
  {
   "cell_type": "code",
   "execution_count": 15,
   "metadata": {},
   "outputs": [
    {
     "name": "stdout",
     "output_type": "stream",
     "text": [
      "[['The Three Musketeers', 'Alexandre Dumas', '1844'], ['Dream of the Red Chamber', 'Cao Xueqin', '1791'], ['A Christmas Carol', 'Charles Dickens', '1843'], ['Jane Eyre', 'Charlotte Bronte', '1847'], ['One Hundred Years of Solitude', 'Gabriel Garcia Marquez', '1967'], ['The Phantom of the Opera', 'Gaston Leroux', '1909'], ['Nineteen Eighty-Four', 'George Orwell', '1949'], ['Moby Dick', 'Herman Melville', '1851'], ['White Fang', 'Jack London', '1906'], ['Persuasion', 'Jane Austen', '1817'], ['The Wind in the Willows', 'Kenneth Grahame', '1908'], ['War and Peace', 'Leo Tolstoy', '1867'], ['Little Women', 'Louisa May Alcott', '1868'], ['Romance of the Three Kingdoms', 'Luo Guanzhong', '1522'], ['The Picture of Dorian Gray', 'Oscar Wilde', '1890'], ['Fahrenheit 451', 'Ray Bradbury', '1953'], ['Water Margin', 'Shi Naian', '1450'], ['Journey to the West', 'Wu Chengen', '1592']]\n",
      "[['Water Margin', 'Shi Naian', '1450'], ['Romance of the Three Kingdoms', 'Luo Guanzhong', '1522'], ['Journey to the West', 'Wu Chengen', '1592'], ['Dream of the Red Chamber', 'Cao Xueqin', '1791'], ['Persuasion', 'Jane Austen', '1817'], ['A Christmas Carol', 'Charles Dickens', '1843'], ['The Three Musketeers', 'Alexandre Dumas', '1844'], ['Jane Eyre', 'Charlotte Bronte', '1847'], ['Moby Dick', 'Herman Melville', '1851'], ['War and Peace', 'Leo Tolstoy', '1867'], ['Little Women', 'Louisa May Alcott', '1868'], ['The Picture of Dorian Gray', 'Oscar Wilde', '1890'], ['White Fang', 'Jack London', '1906'], ['The Wind in the Willows', 'Kenneth Grahame', '1908'], ['The Phantom of the Opera', 'Gaston Leroux', '1909'], ['Nineteen Eighty-Four', 'George Orwell', '1949'], ['Fahrenheit 451', 'Ray Bradbury', '1953'], ['One Hundred Years of Solitude', 'Gabriel Garcia Marquez', '1967']]\n"
     ]
    }
   ],
   "source": [
    "#Task 2.3\n",
    "def merged(arr1, arr2, sort_key):\n",
    "    keys = {\"title\" : 0, \"author\" : 1, \"year\" : 2} \n",
    "    sort_key = keys[sort_key]\n",
    "    merged = []\n",
    "    ptr1 = ptr2 = 0\n",
    "    while ptr1 < len(arr1) and ptr2 < len(arr2):\n",
    "        if arr1[ptr1][sort_key] < arr2[ptr2][sort_key]:\n",
    "            merged.append(arr1[ptr1])\n",
    "            ptr1 += 1\n",
    "        else:\n",
    "            merged.append(arr2[ptr2])\n",
    "            ptr2 += 1\n",
    "            \n",
    "    while ptr1 < len(arr1):\n",
    "        merged.append(arr1[ptr1])\n",
    "        ptr1 += 1\n",
    "        \n",
    "    while ptr2 < len(arr2):\n",
    "        merged.append(arr2[ptr2])\n",
    "        ptr2 += 1\n",
    "        \n",
    "    return merged\n",
    "        \n",
    "def merge(array, sort_key):\n",
    "    keys = [\"title\", \"author\", \"year\"]\n",
    "    \n",
    "    if sort_key not in keys:\n",
    "        return -1\n",
    "    \n",
    "    if len(array) <= 1:\n",
    "        return array\n",
    "    \n",
    "    else:\n",
    "        mid = len(array) // 2\n",
    "        left = merge(array[:mid], sort_key)\n",
    "        right = merge(array[mid:], sort_key)\n",
    "        return merged(left, right, sort_key)\n",
    "    \n",
    "print(merge(books_array, \"author\"))\n",
    "print(merge(books_array, \"year\"))"
   ]
  },
  {
   "cell_type": "code",
   "execution_count": 16,
   "metadata": {},
   "outputs": [
    {
     "name": "stdout",
     "output_type": "stream",
     "text": [
      "[4, 2, 5, 3, 1]\n",
      "[4, 6, 9, 1]\n"
     ]
    }
   ],
   "source": [
    "#Task 2.4\n",
    "def reverse(array):\n",
    "    return array[::-1]\n",
    "\n",
    "print(reverse([1,3,5,2,4]))\n",
    "print(reverse([1,9,6,4]))"
   ]
  },
  {
   "cell_type": "code",
   "execution_count": 24,
   "metadata": {},
   "outputs": [],
   "source": [
    "#Task 2.5\n",
    "newBooks = read_csv(\"newbooks.csv\")\n",
    "sortedNewBooks = bubble(newBooks, \"year\")\n",
    "reversedSortedNewBooks = reverse(sortedNewBooks)\n",
    "with open(\"HCI_2022_PRELIM_TASK2_5.csv\",'w') as f:\n",
    "    for row in reversedSortedNewBooks:\n",
    "        line = f\"{row[0]},{row[1]},{row[2]}\\n\"\n",
    "        f.write(line)"
   ]
  }
 ],
 "metadata": {
  "kernelspec": {
   "display_name": "Python 3",
   "language": "python",
   "name": "python3"
  },
  "language_info": {
   "codemirror_mode": {
    "name": "ipython",
    "version": 3
   },
   "file_extension": ".py",
   "mimetype": "text/x-python",
   "name": "python",
   "nbconvert_exporter": "python",
   "pygments_lexer": "ipython3",
   "version": "3.6.4"
  }
 },
 "nbformat": 4,
 "nbformat_minor": 2
}
