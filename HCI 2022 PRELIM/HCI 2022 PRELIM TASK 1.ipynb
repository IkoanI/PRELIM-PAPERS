{
 "cells": [
  {
   "cell_type": "code",
   "execution_count": 34,
   "metadata": {},
   "outputs": [
    {
     "name": "stdout",
     "output_type": "stream",
     "text": [
      ". . M . . . .\n",
      ". . . M . . .\n",
      ". . . . . . M\n",
      ". . . S M . .\n",
      ". . . . . . .\n",
      ". . . M . . .\n",
      ". . . . . . .\n"
     ]
    }
   ],
   "source": [
    "#Task 1.1\n",
    "def createGrid():\n",
    "    with open(\"MINEFIELD.TXT\") as f:\n",
    "        for index, row in enumerate(f):\n",
    "            if index == 0:\n",
    "                size = int(row)\n",
    "                grid = [['.' for i in range(size)] for i in range(size)]\n",
    "            else:\n",
    "                x, y = row.strip().split(',')\n",
    "                grid[int(x)][int(y)] = 'M'\n",
    "    \n",
    "    midCoord = size // 2\n",
    "    grid[midCoord][midCoord] = 'S'\n",
    "    \n",
    "    return grid, midCoord\n",
    "\n",
    "def display(grid):\n",
    "    for row in grid:\n",
    "        for index, column in enumerate(row):\n",
    "            if index ==  len(row) - 1:\n",
    "                print(column)\n",
    "            else:\n",
    "                print(column, end = ' ')\n",
    "\n",
    "grid, midCoord = createGrid()\n",
    "display(grid)"
   ]
  },
  {
   "cell_type": "code",
   "execution_count": 39,
   "metadata": {},
   "outputs": [
    {
     "name": "stdout",
     "output_type": "stream",
     "text": [
      "STEPS: LEFT DOWN DOWN LEFT LEFT RIGHT LEFT LEFT\n",
      ". . M . . . .\n",
      ". . . M . . .\n",
      ". . . . . . M\n",
      ". . P S M . .\n",
      ". . P . . . .\n",
      "P P P M . . .\n",
      ". . . . . . .\n",
      "WIN! You walked to the boundary!\n"
     ]
    }
   ],
   "source": [
    "#Task 1.2\n",
    "import random\n",
    "grid, playerX = createGrid()\n",
    "playerY = playerX\n",
    "steps = \"STEPS:\"\n",
    "\n",
    "while(True):\n",
    "    move = random.randint(1, 4)\n",
    "    if move == 1:\n",
    "        steps += \" UP\"\n",
    "        playerX -= 1\n",
    "            \n",
    "    elif move == 2:\n",
    "        steps += \" LEFT\"\n",
    "        playerY -= 1\n",
    "            \n",
    "    elif move == 3:\n",
    "        steps += \" DOWN\"\n",
    "        playerX += 1\n",
    "            \n",
    "    elif move == 4:\n",
    "        steps += \" RIGHT\"\n",
    "        playerY += 1\n",
    "        \n",
    "    if 0 <= playerX < size and 0 <= playerY < size:\n",
    "        if grid[playerX][playerY] == 'M':\n",
    "            result = \"GAME OVER\"\n",
    "            break\n",
    "        else:\n",
    "            grid[playerX][playerY] = 'P'\n",
    "    else:\n",
    "        result = \"WIN! You walked to the boundary!\"\n",
    "        break\n",
    "        \n",
    "\n",
    "print(steps)\n",
    "display(grid)\n",
    "print(result)"
   ]
  }
 ],
 "metadata": {
  "kernelspec": {
   "display_name": "Python 3",
   "language": "python",
   "name": "python3"
  },
  "language_info": {
   "codemirror_mode": {
    "name": "ipython",
    "version": 3
   },
   "file_extension": ".py",
   "mimetype": "text/x-python",
   "name": "python",
   "nbconvert_exporter": "python",
   "pygments_lexer": "ipython3",
   "version": "3.6.4"
  }
 },
 "nbformat": 4,
 "nbformat_minor": 2
}
