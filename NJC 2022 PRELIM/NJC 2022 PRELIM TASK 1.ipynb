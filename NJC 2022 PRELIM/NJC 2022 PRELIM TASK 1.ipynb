{
 "cells": [
  {
   "cell_type": "code",
   "execution_count": 2,
   "metadata": {},
   "outputs": [],
   "source": [
    "#Task 1.1\n",
    "def fun(expression, num):\n",
    "    newExpression = \"\"\n",
    "    for char in expression:\n",
    "        if char == 'x':\n",
    "            newExpression += str(num)\n",
    "        else:\n",
    "            newExpression += char\n",
    "    return eval(newExpression)"
   ]
  },
  {
   "cell_type": "code",
   "execution_count": 3,
   "metadata": {},
   "outputs": [
    {
     "data": {
      "text/plain": [
       "36"
      ]
     },
     "execution_count": 3,
     "metadata": {},
     "output_type": "execute_result"
    }
   ],
   "source": [
    "fun('2*x**3+4*x**2+4', 2)"
   ]
  },
  {
   "cell_type": "code",
   "execution_count": 4,
   "metadata": {},
   "outputs": [
    {
     "data": {
      "text/plain": [
       "457.62960000000055"
      ]
     },
     "execution_count": 4,
     "metadata": {},
     "output_type": "execute_result"
    }
   ],
   "source": [
    "#Task 1.2\n",
    "def left_sum(expr, a, b, num):\n",
    "    area = 0\n",
    "    width = (b - a) / num\n",
    "    current = a\n",
    "    while current < b:\n",
    "        height = fun(expr, current)\n",
    "        area += height * width\n",
    "        current += width\n",
    "    return area\n",
    "\n",
    "left_sum(\"8*x**3-5*x+6\", 2, 4, 100)"
   ]
  },
  {
   "cell_type": "code",
   "execution_count": 11,
   "metadata": {},
   "outputs": [
    {
     "data": {
      "text/plain": [
       "234.1696361565103"
      ]
     },
     "execution_count": 11,
     "metadata": {},
     "output_type": "execute_result"
    }
   ],
   "source": [
    "#Task 1.3\n",
    "import random\n",
    "\n",
    "def random_sum(expr, a, b, num):\n",
    "    totalWidth = b - a\n",
    "    currentX = a\n",
    "    area = 0\n",
    "    for i in range(num):\n",
    "        width = random.uniform(0, totalWidth)\n",
    "        height = fun(expr, currentX + (width / 2))\n",
    "        area += width * height\n",
    "        totalWidth -= width\n",
    "    return area\n",
    "\n",
    "random_sum(\"8*x**3-5*x+6\", 2, 4, 100)"
   ]
  }
 ],
 "metadata": {
  "kernelspec": {
   "display_name": "Python 3",
   "language": "python",
   "name": "python3"
  },
  "language_info": {
   "codemirror_mode": {
    "name": "ipython",
    "version": 3
   },
   "file_extension": ".py",
   "mimetype": "text/x-python",
   "name": "python",
   "nbconvert_exporter": "python",
   "pygments_lexer": "ipython3",
   "version": "3.6.4"
  }
 },
 "nbformat": 4,
 "nbformat_minor": 2
}
