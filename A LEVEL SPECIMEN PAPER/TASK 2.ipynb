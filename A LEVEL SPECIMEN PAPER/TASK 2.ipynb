{
 "cells": [
  {
   "cell_type": "code",
   "execution_count": 13,
   "metadata": {},
   "outputs": [
    {
     "name": "stdout",
     "output_type": "stream",
     "text": [
      "[['Day1Presentation', '2019-10-23', '1310'], ['Day2Presentation', '2019-10-23', '1410'], ['Day3Presentation', '2019-10-23', '1520'], ['Day4Presentation', '2019-10-23', '1770'], ['Exercise1Day1', '2019-10-25', '72'], ['Exercise1Day2', '2019-10-25', '78'], ['Exercise1Day3', '2019-10-25', '48'], ['Exercise1Day4', '2019-10-25', '98'], ['Exercise2Day1', '2019-10-25', '88'], ['Exercise2Day2', '2019-10-25', '80'], ['Exercise2Day3', '2019-10-25', '62'], ['Exercise2Day4', '2019-10-25', '108'], ['Exercise3Day1', '2019-10-25', '66'], ['Exercise3Day2', '2019-10-25', '102'], ['Exercise3Day3', '2019-10-25', '66'], ['Exercise3Day4', '2019-10-25', '54'], ['Exercise4Day1', '2019-10-25', '192'], ['Exercise4Day2', '2019-10-25', '184'], ['Exercise4Day3', '2019-10-25', '232'], ['Exercise4Day4', '2019-10-25', '134'], ['NotesDay1', '2019-10-24', '314'], ['NotesDay2', '2019-10-24', '370'], ['NotesDay3', '2019-10-24', '419'], ['NotesDay4', '2019-10-24', '678'], ['Program1', '2019-10-21', '4'], ['Program2', '2019-10-21', '2'], ['Program3', '2019-10-21', '1'], ['Program4', '2019-10-21', '3'], ['Program5', '2019-10-21', '3'], ['Results1', '2019-10-24', '10'], ['Results2', '2019-10-24', '10'], ['Results3', '2019-10-24', '10'], ['Results4', '2019-10-24', '24'], ['Results5', '2019-10-24', '26'], ['TestData1', '2019-10-23', '1'], ['TestData2', '2019-10-23', '1'], ['TestData4', '2019-10-23', '2'], ['TestData5', '2019-10-23', '2'], ['Testdata3', '2019-10-23', '1']]\n"
     ]
    }
   ],
   "source": [
    "#Task 2.1\n",
    "with open(\"TESTDATA.txt\") as f:\n",
    "    files = [row.strip().split(',') for row in f]\n",
    "\n",
    "def partition(arr, start, end):\n",
    "    pivot = arr[end][0]\n",
    "    partitionIndex = start - 1\n",
    "    for i in range(start, end):\n",
    "        if arr[i][0] < pivot:\n",
    "            partitionIndex += 1\n",
    "            arr[i], arr[partitionIndex] = arr[partitionIndex], arr[i]\n",
    "            \n",
    "    partitionIndex += 1\n",
    "    arr[end], arr[partitionIndex] = arr[partitionIndex], arr[end]\n",
    "    return partitionIndex\n",
    "\n",
    "def quicksort(arr, start, end):\n",
    "    if start >= end:\n",
    "        return\n",
    "    else:\n",
    "        partitionIndex = partition(arr, start, end)\n",
    "        quicksort(arr, start, partitionIndex - 1)\n",
    "        quicksort(arr, partitionIndex + 1, end)\n",
    "        return arr\n",
    "    \n",
    "sortedFiles = quicksort(files, 0, len(files) - 1)\n",
    "print(sortedFiles)\n",
    "\n",
    "with open(\"TESTDATA_Filename_order.txt\", 'w') as f:\n",
    "    for file in sortedFiles:\n",
    "        line = ''\n",
    "        for info in file:\n",
    "            line += f\"{info},\"\n",
    "        f.write(f\"{line.strip(',')}\\n\")"
   ]
  },
  {
   "cell_type": "code",
   "execution_count": 25,
   "metadata": {},
   "outputs": [
    {
     "name": "stdout",
     "output_type": "stream",
     "text": [
      "[['Program5', '2019-10-21', '3'], ['Program1', '2019-10-21', '4'], ['Program2', '2019-10-21', '2'], ['Program3', '2019-10-21', '1'], ['Program4', '2019-10-21', '3'], ['Testdata3', '2019-10-23', '1'], ['TestData5', '2019-10-23', '2'], ['TestData4', '2019-10-23', '2'], ['Day1Presentation', '2019-10-23', '1310'], ['Day2Presentation', '2019-10-23', '1410'], ['Day3Presentation', '2019-10-23', '1520'], ['Day4Presentation', '2019-10-23', '1770'], ['TestData1', '2019-10-23', '1'], ['TestData2', '2019-10-23', '1'], ['NotesDay1', '2019-10-24', '314'], ['Results1', '2019-10-24', '10'], ['Results2', '2019-10-24', '10'], ['Results3', '2019-10-24', '10'], ['Results4', '2019-10-24', '24'], ['Results5', '2019-10-24', '26'], ['NotesDay3', '2019-10-24', '419'], ['NotesDay4', '2019-10-24', '678'], ['NotesDay2', '2019-10-24', '370'], ['Exercise1Day2', '2019-10-25', '78'], ['Exercise2Day2', '2019-10-25', '80'], ['Exercise2Day3', '2019-10-25', '62'], ['Exercise2Day4', '2019-10-25', '108'], ['Exercise3Day1', '2019-10-25', '66'], ['Exercise3Day2', '2019-10-25', '102'], ['Exercise1Day1', '2019-10-25', '72'], ['Exercise3Day3', '2019-10-25', '66'], ['Exercise3Day4', '2019-10-25', '54'], ['Exercise4Day1', '2019-10-25', '192'], ['Exercise4Day2', '2019-10-25', '184'], ['Exercise4Day3', '2019-10-25', '232'], ['Exercise4Day4', '2019-10-25', '134'], ['Exercise1Day3', '2019-10-25', '48'], ['Exercise1Day4', '2019-10-25', '98'], ['Exercise2Day1', '2019-10-25', '88']]\n",
      "Results5, 26 KB\n",
      "Not found\n",
      "Program5, 2019-10-21\n",
      "Program1, 2019-10-21\n",
      "Program2, 2019-10-21\n",
      "Program3, 2019-10-21\n",
      "Program4, 2019-10-21\n",
      "No files modified on date given\n"
     ]
    }
   ],
   "source": [
    "#Task 2.2\n",
    "def bubblesort(arr):\n",
    "    for i in range(len(arr) - 1):\n",
    "        noSwaps = True\n",
    "        for j in range(i, len(arr) - 1 - i):\n",
    "            if arr[j][1] > arr[j+1][1]:\n",
    "                arr[j], arr[j+1], = arr[j+1], arr[j]\n",
    "                noSwaps = False\n",
    "                \n",
    "        if noSwaps:\n",
    "            break\n",
    "            \n",
    "    return arr\n",
    "\n",
    "print(bubblesort(files))\n",
    "\n",
    "def searchByName(arr, name):\n",
    "    for item in arr:\n",
    "        if item[0] == name:\n",
    "            return f\"{item[0]}, {item[2]} KB\"\n",
    "    return \"Not found\"\n",
    "\n",
    "def searchByDateModified(arr, date):\n",
    "    result = []\n",
    "    for item in arr:\n",
    "        if item[1] == date:\n",
    "            result.append(item)\n",
    "    if result == []:\n",
    "        print(\"No files modified on date given\")\n",
    "    else:\n",
    "        for item in result:\n",
    "            print(f\"{item[0]}, {item[1]}\")\n",
    "            \n",
    "print(searchByName(files, \"Results5\"))\n",
    "print(searchByName(files, \"aaaaa\"))\n",
    "searchByDateModified(files, \"2019-10-21\")\n",
    "searchByDateModified(files, \"2019-10-30\")"
   ]
  }
 ],
 "metadata": {
  "kernelspec": {
   "display_name": "Python 3",
   "language": "python",
   "name": "python3"
  },
  "language_info": {
   "codemirror_mode": {
    "name": "ipython",
    "version": 3
   },
   "file_extension": ".py",
   "mimetype": "text/x-python",
   "name": "python",
   "nbconvert_exporter": "python",
   "pygments_lexer": "ipython3",
   "version": "3.6.4"
  }
 },
 "nbformat": 4,
 "nbformat_minor": 2
}
