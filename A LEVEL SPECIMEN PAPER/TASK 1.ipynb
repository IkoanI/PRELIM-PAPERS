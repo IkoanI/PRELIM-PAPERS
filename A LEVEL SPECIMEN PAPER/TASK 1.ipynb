{
 "cells": [
  {
   "cell_type": "code",
   "execution_count": 1,
   "metadata": {},
   "outputs": [
    {
     "name": "stdout",
     "output_type": "stream",
     "text": [
      "Enter a single letter: =\n",
      "Invalid character!\n",
      "Enter a single letter: b\n",
      "b\n",
      "Enter a single letter: A\n",
      "A\n"
     ]
    }
   ],
   "source": [
    "#Task 1.1\n",
    "def checkLetter():\n",
    "    while(True):\n",
    "        char = input(\"Enter a single letter: \")\n",
    "        if 65 <= ord(char) <= 90 or 97 <= ord(char) <= 122:\n",
    "            return char\n",
    "        print(\"Invalid character!\")\n",
    "        \n",
    "print(checkLetter())\n",
    "print(checkLetter())"
   ]
  },
  {
   "cell_type": "code",
   "execution_count": 3,
   "metadata": {},
   "outputs": [
    {
     "name": "stdout",
     "output_type": "stream",
     "text": [
      "Enter a single letter: B\n",
      "Enter a number base: 11\n",
      "Letter               B\n",
      "Denary               66\n",
      "Number Base 11       60\n",
      "Enter a single letter: m\n",
      "Enter a number base: 14\n",
      "Letter               m\n",
      "Denary               109\n",
      "Number Base 14       711\n"
     ]
    }
   ],
   "source": [
    "#Task 1.2\n",
    "def convertToBase(denary, base):\n",
    "    numberBase = ''\n",
    "    numberBase += str(denary % base)\n",
    "    quotient = denary // base\n",
    "    \n",
    "    while(quotient != 0):\n",
    "        numberBase += str(quotient % base)\n",
    "        quotient = quotient // base\n",
    "    \n",
    "    return numberBase\n",
    "\n",
    "def task1_2():\n",
    "    char = checkLetter()\n",
    "    while(True):\n",
    "        base = int(input(\"Enter a number base: \"))\n",
    "        if 10 < base < 15:\n",
    "            break\n",
    "        print(\"Number base must be between 10 and 15!\")\n",
    "    print(f\"{'Letter':<20} {char}\")\n",
    "    denary = ord(char)\n",
    "    print(f\"{'Denary':<20} {denary}\")\n",
    "    numberBase = convertToBase(denary, base)\n",
    "    print(f\"{'Number Base'} {base:<8} {numberBase[::-1]}\")\n",
    "    \n",
    "task1_2()\n",
    "task1_2()"
   ]
  },
  {
   "cell_type": "code",
   "execution_count": 8,
   "metadata": {},
   "outputs": [
    {
     "name": "stdout",
     "output_type": "stream",
     "text": [
      "1. Enter a letter\n",
      "2. Convert to Denary\n",
      "3. Convert to Base 11\n",
      "4. Convert to Base 12\n",
      "5. Convert to Base 13\n",
      "6. Convert to Base 14\n",
      "7. End\n",
      "Enter an option: 2\n",
      "Enter a letter first.\n",
      "1. Enter a letter\n",
      "2. Convert to Denary\n",
      "3. Convert to Base 11\n",
      "4. Convert to Base 12\n",
      "5. Convert to Base 13\n",
      "6. Convert to Base 14\n",
      "7. End\n",
      "Enter an option: 1\n",
      "Enter a single letter: X\n",
      "1. Enter a letter\n",
      "2. Convert to Denary\n",
      "3. Convert to Base 11\n",
      "4. Convert to Base 12\n",
      "5. Convert to Base 13\n",
      "6. Convert to Base 14\n",
      "7. End\n",
      "Enter an option: 5\n",
      "106\n",
      "1. Enter a letter\n",
      "2. Convert to Denary\n",
      "3. Convert to Base 11\n",
      "4. Convert to Base 12\n",
      "5. Convert to Base 13\n",
      "6. Convert to Base 14\n",
      "7. End\n",
      "Enter an option: 3\n",
      "08\n",
      "1. Enter a letter\n",
      "2. Convert to Denary\n",
      "3. Convert to Base 11\n",
      "4. Convert to Base 12\n",
      "5. Convert to Base 13\n",
      "6. Convert to Base 14\n",
      "7. End\n",
      "Enter an option: 1\n",
      "Enter a single letter: y\n",
      "1. Enter a letter\n",
      "2. Convert to Denary\n",
      "3. Convert to Base 11\n",
      "4. Convert to Base 12\n",
      "5. Convert to Base 13\n",
      "6. Convert to Base 14\n",
      "7. End\n",
      "Enter an option: 2\n",
      "121\n",
      "1. Enter a letter\n",
      "2. Convert to Denary\n",
      "3. Convert to Base 11\n",
      "4. Convert to Base 12\n",
      "5. Convert to Base 13\n",
      "6. Convert to Base 14\n",
      "7. End\n",
      "Enter an option: 7\n"
     ]
    }
   ],
   "source": [
    "#Task 1.3\n",
    "def menu():\n",
    "    letter = None\n",
    "    while(True):\n",
    "        print(\"1. Enter a letter\")\n",
    "        print(\"2. Convert to Denary\")\n",
    "        print(\"3. Convert to Base 11\")\n",
    "        print(\"4. Convert to Base 12\")\n",
    "        print(\"5. Convert to Base 13\")\n",
    "        print(\"6. Convert to Base 14\")\n",
    "        print(\"7. End\")\n",
    "        option = input(\"Enter an option: \")\n",
    "        while(option not in [str(i + 1) for i in range(7)]):\n",
    "            print(\"Invalid Option.\")\n",
    "            option = input(\"Enter an option: \")\n",
    "\n",
    "        if option == '1':\n",
    "            letter = checkLetter()\n",
    "        \n",
    "        elif letter is None:\n",
    "            print(\"Enter a letter first.\")\n",
    "        \n",
    "        elif option == '2':\n",
    "            print(ord(letter))\n",
    "                \n",
    "        elif option == '7':\n",
    "            break\n",
    "        \n",
    "        else:\n",
    "            print(convertToBase(ord(letter), int(option) + 8))\n",
    "            \n",
    "menu()"
   ]
  }
 ],
 "metadata": {
  "kernelspec": {
   "display_name": "Python 3",
   "language": "python",
   "name": "python3"
  },
  "language_info": {
   "codemirror_mode": {
    "name": "ipython",
    "version": 3
   },
   "file_extension": ".py",
   "mimetype": "text/x-python",
   "name": "python",
   "nbconvert_exporter": "python",
   "pygments_lexer": "ipython3",
   "version": "3.6.4"
  }
 },
 "nbformat": 4,
 "nbformat_minor": 2
}
