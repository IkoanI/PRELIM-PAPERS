{
 "cells": [
  {
   "cell_type": "code",
   "execution_count": 1,
   "metadata": {},
   "outputs": [
    {
     "data": {
      "text/plain": [
       "1.9424884884648699"
      ]
     },
     "execution_count": 1,
     "metadata": {},
     "output_type": "execute_result"
    }
   ],
   "source": [
    "# The following is the Haversine function and a demonstration of how it can be used. \n",
    "# Input the coordinates (longitude,latitude) of two locations \n",
    "\n",
    "from math import *\n",
    "\n",
    "def Haversine(coord1,coord2):\n",
    "\n",
    "    long1, lat1 = coord1\n",
    "    long2, lat2 = coord2\n",
    "\n",
    "    R = 6371000                               # radius of Earth in meters\n",
    "    phi_1 = radians(lat1)\n",
    "    phi_2 = radians(lat2)\n",
    "\n",
    "    delta_phi = radians(lat2-lat1)\n",
    "    delta_lambda = radians(long2-long1)\n",
    "\n",
    "    a = sin(delta_phi/2.0)**2 + cos(phi_1) * cos(phi_2) * sin(delta_lambda/2.0)**2\n",
    "    c = 2 * atan2(sqrt(a), sqrt(1-a))\n",
    "\n",
    "    return R * c/1000.0\n",
    "\n",
    "\n",
    "pt1 = [103.7423112,1.33315262]\n",
    "pt2 = [103.74959,1.349034109]\n",
    "\n",
    "Haversine(pt1, pt2)"
   ]
  }
 ],
 "metadata": {
  "kernelspec": {
   "display_name": "Python 3",
   "language": "python",
   "name": "python3"
  },
  "language_info": {
   "codemirror_mode": {
    "name": "ipython",
    "version": 3
   },
   "file_extension": ".py",
   "mimetype": "text/x-python",
   "name": "python",
   "nbconvert_exporter": "python",
   "pygments_lexer": "ipython3",
   "version": "3.6.4"
  }
 },
 "nbformat": 4,
 "nbformat_minor": 2
}
