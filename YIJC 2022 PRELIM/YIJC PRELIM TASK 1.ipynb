{
 "cells": [
  {
   "cell_type": "code",
   "execution_count": 5,
   "metadata": {},
   "outputs": [],
   "source": [
    "#Task 1.1\n",
    "def task1_1(file):\n",
    "    with open(file) as f:\n",
    "        data = f.readlines()\n",
    "        stations = []\n",
    "        for i in range(1, len(data)):\n",
    "            stnNo, stnName, lat, long = data[i].strip().split(',')\n",
    "            stations.append([stnNo, stnName, float(lat), float(long)])\n",
    "\n",
    "        return stations"
   ]
  },
  {
   "cell_type": "code",
   "execution_count": 8,
   "metadata": {
    "scrolled": true
   },
   "outputs": [
    {
     "name": "stdout",
     "output_type": "stream",
     "text": [
      "Distance between SEMBAWANG MRT STATION and MARINA SOUTH PIER MRT STATION is 20.325657280035372 km.\n"
     ]
    }
   ],
   "source": [
    "#Task 1.2\n",
    "from math import *\n",
    "\n",
    "def Haversine(coord1,coord2):\n",
    "\n",
    "    long1, lat1 = coord1\n",
    "    long2, lat2 = coord2\n",
    "\n",
    "    R = 6371000                               # radius of Earth in meters\n",
    "    phi_1 = radians(lat1)\n",
    "    phi_2 = radians(lat2)\n",
    "\n",
    "    delta_phi = radians(lat2-lat1)\n",
    "    delta_lambda = radians(long2-long1)\n",
    "\n",
    "    a = sin(delta_phi/2.0)**2 + cos(phi_1) * cos(phi_2) * sin(delta_lambda/2.0)**2\n",
    "    c = 2 * atan2(sqrt(a), sqrt(1-a))\n",
    "\n",
    "    return R * c/1000.0\n",
    "\n",
    "stations = task1_1(\"MRT.TXT\")\n",
    "northernmost = 0\n",
    "southernmost = 0\n",
    "maxLat = 0\n",
    "leastLat = 9999\n",
    "for index, station in enumerate(stations):\n",
    "    if station[2] > maxLat:\n",
    "        maxLat = station[2]\n",
    "        northernmost = station\n",
    "        \n",
    "    if station[2] < leastLat:\n",
    "        leastLat = station[2]\n",
    "        southernmost = station\n",
    "        \n",
    "print(f\"Distance between {northernmost[1]} and {southernmost[1]} is {Haversine([northernmost[3], northernmost[2]], [southernmost[3], southernmost[2]])} km.\")"
   ]
  },
  {
   "cell_type": "code",
   "execution_count": 24,
   "metadata": {},
   "outputs": [],
   "source": [
    "#Task 1.3\n",
    "with open(\"output.txt\", 'w') as f:\n",
    "    total = 0\n",
    "    for i in range(len(stations) - 1):\n",
    "        currentStation = stations[i]\n",
    "        nextStation = stations[i+1]\n",
    "        dist = Haversine([currentStation[3], currentStation[2]], [nextStation[3], nextStation[2]])\n",
    "        total += dist\n",
    "        f.write(f\"{currentStation[1]},{nextStation[1]},{round(dist, 2)}\\n\")\n",
    "    f.write(f\"{round(total, 2)}\")"
   ]
  }
 ],
 "metadata": {
  "kernelspec": {
   "display_name": "Python 3",
   "language": "python",
   "name": "python3"
  },
  "language_info": {
   "codemirror_mode": {
    "name": "ipython",
    "version": 3
   },
   "file_extension": ".py",
   "mimetype": "text/x-python",
   "name": "python",
   "nbconvert_exporter": "python",
   "pygments_lexer": "ipython3",
   "version": "3.6.4"
  }
 },
 "nbformat": 4,
 "nbformat_minor": 2
}
